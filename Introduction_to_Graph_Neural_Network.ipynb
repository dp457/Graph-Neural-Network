{
  "nbformat": 4,
  "nbformat_minor": 0,
  "metadata": {
    "colab": {
      "provenance": [],
      "gpuType": "V28",
      "authorship_tag": "ABX9TyPy6YO18+ayAREHmHHtfQiY",
      "include_colab_link": true
    },
    "kernelspec": {
      "name": "python3",
      "display_name": "Python 3"
    },
    "language_info": {
      "name": "python"
    },
    "accelerator": "TPU"
  },
  "cells": [
    {
      "cell_type": "markdown",
      "metadata": {
        "id": "view-in-github",
        "colab_type": "text"
      },
      "source": [
        "<a href=\"https://colab.research.google.com/github/dp457/Graph-Neural-Network/blob/main/Introduction_to_Graph_Neural_Network.ipynb\" target=\"_parent\"><img src=\"https://colab.research.google.com/assets/colab-badge.svg\" alt=\"Open In Colab\"/></a>"
      ]
    },
    {
      "cell_type": "code",
      "execution_count": 1,
      "metadata": {
        "colab": {
          "base_uri": "https://localhost:8080/"
        },
        "id": "Lhjcq_jr97Is",
        "outputId": "29b37b71-1058-4544-9d23-18abc174fd21"
      },
      "outputs": [
        {
          "output_type": "stream",
          "name": "stdout",
          "text": [
            "Collecting torch_geometric\n",
            "  Downloading torch_geometric-2.6.1-py3-none-any.whl.metadata (63 kB)\n",
            "\u001b[?25l     \u001b[90m━━━━━━━━━━━━━━━━━━━━━━━━━━━━━━━━━━━━━━━━\u001b[0m \u001b[32m0.0/63.1 kB\u001b[0m \u001b[31m?\u001b[0m eta \u001b[36m-:--:--\u001b[0m\r\u001b[2K     \u001b[90m━━━━━━━━━━━━━━━━━━━━━━━━━━━━━━━━━━━━━━━━\u001b[0m \u001b[32m63.1/63.1 kB\u001b[0m \u001b[31m1.8 MB/s\u001b[0m eta \u001b[36m0:00:00\u001b[0m\n",
            "\u001b[?25hCollecting aiohttp (from torch_geometric)\n",
            "  Downloading aiohttp-3.12.15-cp312-cp312-manylinux_2_17_x86_64.manylinux2014_x86_64.whl.metadata (7.7 kB)\n",
            "Requirement already satisfied: fsspec in /usr/local/lib/python3.12/dist-packages (from torch_geometric) (2025.7.0)\n",
            "Requirement already satisfied: jinja2 in /usr/local/lib/python3.12/dist-packages (from torch_geometric) (3.1.6)\n",
            "Requirement already satisfied: numpy in /usr/local/lib/python3.12/dist-packages (from torch_geometric) (2.0.2)\n",
            "Requirement already satisfied: psutil>=5.8.0 in /usr/local/lib/python3.12/dist-packages (from torch_geometric) (5.9.5)\n",
            "Requirement already satisfied: pyparsing in /usr/local/lib/python3.12/dist-packages (from torch_geometric) (3.2.3)\n",
            "Requirement already satisfied: requests in /usr/local/lib/python3.12/dist-packages (from torch_geometric) (2.32.4)\n",
            "Requirement already satisfied: tqdm in /usr/local/lib/python3.12/dist-packages (from torch_geometric) (4.67.1)\n",
            "Collecting aiohappyeyeballs>=2.5.0 (from aiohttp->torch_geometric)\n",
            "  Downloading aiohappyeyeballs-2.6.1-py3-none-any.whl.metadata (5.9 kB)\n",
            "Collecting aiosignal>=1.4.0 (from aiohttp->torch_geometric)\n",
            "  Downloading aiosignal-1.4.0-py3-none-any.whl.metadata (3.7 kB)\n",
            "Requirement already satisfied: attrs>=17.3.0 in /usr/local/lib/python3.12/dist-packages (from aiohttp->torch_geometric) (25.3.0)\n",
            "Collecting frozenlist>=1.1.1 (from aiohttp->torch_geometric)\n",
            "  Downloading frozenlist-1.7.0-cp312-cp312-manylinux_2_5_x86_64.manylinux1_x86_64.manylinux_2_17_x86_64.manylinux2014_x86_64.whl.metadata (18 kB)\n",
            "Requirement already satisfied: multidict<7.0,>=4.5 in /usr/local/lib/python3.12/dist-packages (from aiohttp->torch_geometric) (6.6.4)\n",
            "Collecting propcache>=0.2.0 (from aiohttp->torch_geometric)\n",
            "  Downloading propcache-0.3.2-cp312-cp312-manylinux_2_17_x86_64.manylinux2014_x86_64.whl.metadata (12 kB)\n",
            "Collecting yarl<2.0,>=1.17.0 (from aiohttp->torch_geometric)\n",
            "  Downloading yarl-1.20.1-cp312-cp312-manylinux_2_17_x86_64.manylinux2014_x86_64.whl.metadata (73 kB)\n",
            "\u001b[2K     \u001b[90m━━━━━━━━━━━━━━━━━━━━━━━━━━━━━━━━━━━━━━━━\u001b[0m \u001b[32m73.9/73.9 kB\u001b[0m \u001b[31m3.1 MB/s\u001b[0m eta \u001b[36m0:00:00\u001b[0m\n",
            "\u001b[?25hRequirement already satisfied: MarkupSafe>=2.0 in /usr/local/lib/python3.12/dist-packages (from jinja2->torch_geometric) (3.0.2)\n",
            "Requirement already satisfied: charset_normalizer<4,>=2 in /usr/local/lib/python3.12/dist-packages (from requests->torch_geometric) (3.4.3)\n",
            "Requirement already satisfied: idna<4,>=2.5 in /usr/local/lib/python3.12/dist-packages (from requests->torch_geometric) (3.10)\n",
            "Requirement already satisfied: urllib3<3,>=1.21.1 in /usr/local/lib/python3.12/dist-packages (from requests->torch_geometric) (2.5.0)\n",
            "Requirement already satisfied: certifi>=2017.4.17 in /usr/local/lib/python3.12/dist-packages (from requests->torch_geometric) (2025.8.3)\n",
            "Requirement already satisfied: typing-extensions>=4.2 in /usr/local/lib/python3.12/dist-packages (from aiosignal>=1.4.0->aiohttp->torch_geometric) (4.14.1)\n",
            "Downloading torch_geometric-2.6.1-py3-none-any.whl (1.1 MB)\n",
            "\u001b[2K   \u001b[90m━━━━━━━━━━━━━━━━━━━━━━━━━━━━━━━━━━━━━━━━\u001b[0m \u001b[32m1.1/1.1 MB\u001b[0m \u001b[31m21.6 MB/s\u001b[0m eta \u001b[36m0:00:00\u001b[0m\n",
            "\u001b[?25hDownloading aiohttp-3.12.15-cp312-cp312-manylinux_2_17_x86_64.manylinux2014_x86_64.whl (1.7 MB)\n",
            "\u001b[2K   \u001b[90m━━━━━━━━━━━━━━━━━━━━━━━━━━━━━━━━━━━━━━━━\u001b[0m \u001b[32m1.7/1.7 MB\u001b[0m \u001b[31m54.4 MB/s\u001b[0m eta \u001b[36m0:00:00\u001b[0m\n",
            "\u001b[?25hDownloading aiohappyeyeballs-2.6.1-py3-none-any.whl (15 kB)\n",
            "Downloading aiosignal-1.4.0-py3-none-any.whl (7.5 kB)\n",
            "Downloading frozenlist-1.7.0-cp312-cp312-manylinux_2_5_x86_64.manylinux1_x86_64.manylinux_2_17_x86_64.manylinux2014_x86_64.whl (241 kB)\n",
            "\u001b[2K   \u001b[90m━━━━━━━━━━━━━━━━━━━━━━━━━━━━━━━━━━━━━━━━\u001b[0m \u001b[32m241.8/241.8 kB\u001b[0m \u001b[31m16.8 MB/s\u001b[0m eta \u001b[36m0:00:00\u001b[0m\n",
            "\u001b[?25hDownloading propcache-0.3.2-cp312-cp312-manylinux_2_17_x86_64.manylinux2014_x86_64.whl (224 kB)\n",
            "\u001b[2K   \u001b[90m━━━━━━━━━━━━━━━━━━━━━━━━━━━━━━━━━━━━━━━━\u001b[0m \u001b[32m224.4/224.4 kB\u001b[0m \u001b[31m15.9 MB/s\u001b[0m eta \u001b[36m0:00:00\u001b[0m\n",
            "\u001b[?25hDownloading yarl-1.20.1-cp312-cp312-manylinux_2_17_x86_64.manylinux2014_x86_64.whl (355 kB)\n",
            "\u001b[2K   \u001b[90m━━━━━━━━━━━━━━━━━━━━━━━━━━━━━━━━━━━━━━━━\u001b[0m \u001b[32m355.6/355.6 kB\u001b[0m \u001b[31m23.7 MB/s\u001b[0m eta \u001b[36m0:00:00\u001b[0m\n",
            "\u001b[?25hInstalling collected packages: propcache, frozenlist, aiohappyeyeballs, yarl, aiosignal, aiohttp, torch_geometric\n",
            "Successfully installed aiohappyeyeballs-2.6.1 aiohttp-3.12.15 aiosignal-1.4.0 frozenlist-1.7.0 propcache-0.3.2 torch_geometric-2.6.1 yarl-1.20.1\n"
          ]
        }
      ],
      "source": [
        "!pip install torch_geometric"
      ]
    },
    {
      "cell_type": "markdown",
      "source": [
        "# Data Handling of Graphs\n",
        "\n",
        "A single graph in Pytorch Geometric consists of the following attributes by default:\n",
        "* Node feature matrix with the shape **[num_nodes, num_node_features].**\n",
        "* Graph connectivity with the shape **[2, num_edges]** with the type long.\n",
        "* Edge feature matrix.\n",
        "* Target to train against or graph-level targets.\n",
        "* Node position matrix with a particular shape.\n",
        "\n",
        "\n",
        "\n",
        "\n",
        "\n",
        "\n",
        "\n"
      ],
      "metadata": {
        "id": "Es1o68Uu_upM"
      }
    },
    {
      "cell_type": "code",
      "source": [
        "import torch\n",
        "from torch_geometric.data import Data\n",
        "\n",
        "edge_index = torch.tensor([[0, 1, 1, 2],\n",
        "                           [1, 0, 2, 1]], dtype=torch.long)"
      ],
      "metadata": {
        "id": "1L-nsIwUBvkd"
      },
      "execution_count": 2,
      "outputs": []
    },
    {
      "cell_type": "code",
      "source": [
        "x = torch.tensor([[-1], [0], [1]], dtype=torch.float)\n",
        "data = Data(x=x, edge_index=edge_index)\n",
        "Data(edge_index=[2,4], x=[3,1])"
      ],
      "metadata": {
        "colab": {
          "base_uri": "https://localhost:8080/"
        },
        "id": "Sw2K-zrnCakn",
        "outputId": "2d589140-6933-4635-e8f6-57a39bfc194b"
      },
      "execution_count": 4,
      "outputs": [
        {
          "output_type": "execute_result",
          "data": {
            "text/plain": [
              "Data(x=[2], edge_index=[2])"
            ]
          },
          "metadata": {},
          "execution_count": 4
        }
      ]
    },
    {
      "cell_type": "markdown",
      "source": [
        "Besides holding a number of node-level, edge-level or graph-level attributes, *Data* provides a number of utility functions."
      ],
      "metadata": {
        "id": "x9WUf_zODz6S"
      }
    },
    {
      "cell_type": "code",
      "source": [
        "data.num_nodes"
      ],
      "metadata": {
        "colab": {
          "base_uri": "https://localhost:8080/"
        },
        "id": "-LJIn5fZEDHM",
        "outputId": "1afd6727-9092-4030-85e2-e14cb4928b43"
      },
      "execution_count": 5,
      "outputs": [
        {
          "output_type": "execute_result",
          "data": {
            "text/plain": [
              "3"
            ]
          },
          "metadata": {},
          "execution_count": 5
        }
      ]
    },
    {
      "cell_type": "code",
      "source": [
        "data.num_edges"
      ],
      "metadata": {
        "colab": {
          "base_uri": "https://localhost:8080/"
        },
        "id": "W5GfJPPbEFq8",
        "outputId": "c6e94b5c-52eb-45c7-c95e-504d38af08bf"
      },
      "execution_count": 6,
      "outputs": [
        {
          "output_type": "execute_result",
          "data": {
            "text/plain": [
              "4"
            ]
          },
          "metadata": {},
          "execution_count": 6
        }
      ]
    },
    {
      "cell_type": "code",
      "source": [
        "device = torch.device('cuda')"
      ],
      "metadata": {
        "id": "eGABot0NEKWg"
      },
      "execution_count": 7,
      "outputs": []
    },
    {
      "cell_type": "markdown",
      "source": [
        "## Benchmark Dataset\n",
        "\n",
        "All graph classifications consists of dataset like QM7, QM9 dataset and a handful of 3D mesh/point cloud dataset like FAUST, ModelNet and ShapeNet.\n",
        "\n",
        "Initialization of the dataset is straightforward"
      ],
      "metadata": {
        "id": "nt2wpT_2EV8x"
      }
    },
    {
      "cell_type": "code",
      "source": [
        "from torch_geometric.datasets import TUDataset\n",
        "\n",
        "dataset = TUDataset(root='/tmp/ENZYMES', name='ENZYMES')"
      ],
      "metadata": {
        "colab": {
          "base_uri": "https://localhost:8080/"
        },
        "id": "vMFy2ijhyEGg",
        "outputId": "60ff2c20-9cdb-4dc4-8c97-3f772b1cce1f"
      },
      "execution_count": 8,
      "outputs": [
        {
          "output_type": "stream",
          "name": "stderr",
          "text": [
            "Downloading https://www.chrsmrrs.com/graphkerneldatasets/ENZYMES.zip\n",
            "Processing...\n",
            "Done!\n"
          ]
        }
      ]
    },
    {
      "cell_type": "code",
      "source": [
        "print(len(dataset))\n",
        "print(dataset.num_classes)"
      ],
      "metadata": {
        "colab": {
          "base_uri": "https://localhost:8080/"
        },
        "id": "JAtEap3pysSo",
        "outputId": "d5f2689c-4be4-449e-a007-40a8efb5eb2c"
      },
      "execution_count": 10,
      "outputs": [
        {
          "output_type": "stream",
          "name": "stdout",
          "text": [
            "600\n",
            "6\n"
          ]
        }
      ]
    },
    {
      "cell_type": "code",
      "source": [
        "dataset.num_node_features"
      ],
      "metadata": {
        "colab": {
          "base_uri": "https://localhost:8080/"
        },
        "id": "pfoRTDNuyxQx",
        "outputId": "696de7dd-b1fa-464c-e63c-8e9f11bf5a1f"
      },
      "execution_count": 11,
      "outputs": [
        {
          "output_type": "execute_result",
          "data": {
            "text/plain": [
              "3"
            ]
          },
          "metadata": {},
          "execution_count": 11
        }
      ]
    },
    {
      "cell_type": "code",
      "source": [
        "data = dataset[0]\n",
        "data"
      ],
      "metadata": {
        "colab": {
          "base_uri": "https://localhost:8080/"
        },
        "id": "lVFGzsecy6Za",
        "outputId": "cdc69a27-2829-4315-9c22-12f8ad3a6c77"
      },
      "execution_count": 13,
      "outputs": [
        {
          "output_type": "execute_result",
          "data": {
            "text/plain": [
              "Data(edge_index=[2, 168], x=[37, 3], y=[1])"
            ]
          },
          "metadata": {},
          "execution_count": 13
        }
      ]
    },
    {
      "cell_type": "markdown",
      "source": [
        "The data consists of 37 nodes, each having 3 features. There are 168/2=84 undirected edges and the graph is assigned exactly 1 class. Data is holding exactly one graph level target. There are ways where we can use the slices, long or bool tensors to split the dataset."
      ],
      "metadata": {
        "id": "ZG17ruUYzBcN"
      }
    },
    {
      "cell_type": "code",
      "source": [
        "train_dataset = dataset[:540]\n",
        "test_dataset = dataset[540:]"
      ],
      "metadata": {
        "colab": {
          "base_uri": "https://localhost:8080/"
        },
        "id": "8HXroBobzUZC",
        "outputId": "a72aaf2a-1b9e-43c3-d120-09f3e095155f"
      },
      "execution_count": 15,
      "outputs": [
        {
          "output_type": "execute_result",
          "data": {
            "text/plain": [
              "ENZYMES(540)"
            ]
          },
          "metadata": {},
          "execution_count": 15
        }
      ]
    },
    {
      "cell_type": "markdown",
      "source": [
        "We download another dataset, standard benchmark one used for semi-supervised graph node classification."
      ],
      "metadata": {
        "id": "lEZqXTMrzkWe"
      }
    },
    {
      "cell_type": "code",
      "source": [
        "from torch_geometric.datasets import Planetoid\n",
        "\n",
        "dataset = Planetoid(root='/tmp/Cora', name = 'Cora')\n",
        "dataset"
      ],
      "metadata": {
        "colab": {
          "base_uri": "https://localhost:8080/"
        },
        "id": "oVn6UqAMzt5L",
        "outputId": "7fcb4c2b-a35d-4fb1-e8b8-9bb14122625f"
      },
      "execution_count": 16,
      "outputs": [
        {
          "output_type": "stream",
          "name": "stderr",
          "text": [
            "Downloading https://github.com/kimiyoung/planetoid/raw/master/data/ind.cora.x\n",
            "Downloading https://github.com/kimiyoung/planetoid/raw/master/data/ind.cora.tx\n",
            "Downloading https://github.com/kimiyoung/planetoid/raw/master/data/ind.cora.allx\n",
            "Downloading https://github.com/kimiyoung/planetoid/raw/master/data/ind.cora.y\n",
            "Downloading https://github.com/kimiyoung/planetoid/raw/master/data/ind.cora.ty\n",
            "Downloading https://github.com/kimiyoung/planetoid/raw/master/data/ind.cora.ally\n",
            "Downloading https://github.com/kimiyoung/planetoid/raw/master/data/ind.cora.graph\n",
            "Downloading https://github.com/kimiyoung/planetoid/raw/master/data/ind.cora.test.index\n",
            "Processing...\n",
            "Done!\n"
          ]
        },
        {
          "output_type": "execute_result",
          "data": {
            "text/plain": [
              "Cora()"
            ]
          },
          "metadata": {},
          "execution_count": 16
        }
      ]
    },
    {
      "cell_type": "code",
      "source": [
        "len(dataset)"
      ],
      "metadata": {
        "colab": {
          "base_uri": "https://localhost:8080/"
        },
        "id": "VbgcM_kYz71m",
        "outputId": "97693a5f-376e-4ae0-fa9e-e71d3028cf8f"
      },
      "execution_count": 17,
      "outputs": [
        {
          "output_type": "execute_result",
          "data": {
            "text/plain": [
              "1"
            ]
          },
          "metadata": {},
          "execution_count": 17
        }
      ]
    },
    {
      "cell_type": "code",
      "source": [
        "dataset.num_classes"
      ],
      "metadata": {
        "colab": {
          "base_uri": "https://localhost:8080/"
        },
        "id": "Pbtc9ZNnz-R_",
        "outputId": "acee99f7-e2c9-4f19-dbf6-2065db461346"
      },
      "execution_count": 18,
      "outputs": [
        {
          "output_type": "execute_result",
          "data": {
            "text/plain": [
              "7"
            ]
          },
          "metadata": {},
          "execution_count": 18
        }
      ]
    },
    {
      "cell_type": "code",
      "source": [
        "dataset.num_node_features"
      ],
      "metadata": {
        "colab": {
          "base_uri": "https://localhost:8080/"
        },
        "id": "O-XrUUBg0AvY",
        "outputId": "9396057d-ddab-400a-c70a-88acda6e8c50"
      },
      "execution_count": 19,
      "outputs": [
        {
          "output_type": "execute_result",
          "data": {
            "text/plain": [
              "1433"
            ]
          },
          "metadata": {},
          "execution_count": 19
        }
      ]
    },
    {
      "cell_type": "code",
      "source": [
        "data = dataset[0]\n",
        "data"
      ],
      "metadata": {
        "colab": {
          "base_uri": "https://localhost:8080/"
        },
        "id": "pl9LNn9r0LXV",
        "outputId": "9d64de30-d32e-4f7f-c323-d53337f613fd"
      },
      "execution_count": 21,
      "outputs": [
        {
          "output_type": "execute_result",
          "data": {
            "text/plain": [
              "Data(x=[2708, 1433], edge_index=[2, 10556], y=[2708], train_mask=[2708], val_mask=[2708], test_mask=[2708])"
            ]
          },
          "metadata": {},
          "execution_count": 21
        }
      ]
    },
    {
      "cell_type": "code",
      "source": [
        "data.is_undirected()"
      ],
      "metadata": {
        "colab": {
          "base_uri": "https://localhost:8080/"
        },
        "id": "v4rDbc-j2_JE",
        "outputId": "9fac82b2-ff53-405b-aa83-9b68e0ec72e8"
      },
      "execution_count": 23,
      "outputs": [
        {
          "output_type": "execute_result",
          "data": {
            "text/plain": [
              "True"
            ]
          },
          "metadata": {},
          "execution_count": 23
        }
      ]
    },
    {
      "cell_type": "code",
      "source": [
        "data.train_mask.sum().item()"
      ],
      "metadata": {
        "colab": {
          "base_uri": "https://localhost:8080/"
        },
        "id": "sE5BENl33D8e",
        "outputId": "ec45d12c-9fe4-4527-d1e2-949518435336"
      },
      "execution_count": 24,
      "outputs": [
        {
          "output_type": "execute_result",
          "data": {
            "text/plain": [
              "140"
            ]
          },
          "metadata": {},
          "execution_count": 24
        }
      ]
    },
    {
      "cell_type": "code",
      "source": [
        "data.val_mask.sum().item()"
      ],
      "metadata": {
        "colab": {
          "base_uri": "https://localhost:8080/"
        },
        "id": "b6q0GFHt3HgN",
        "outputId": "affa3b25-de46-487b-f947-2a8fdb627360"
      },
      "execution_count": 25,
      "outputs": [
        {
          "output_type": "execute_result",
          "data": {
            "text/plain": [
              "500"
            ]
          },
          "metadata": {},
          "execution_count": 25
        }
      ]
    },
    {
      "cell_type": "code",
      "source": [
        "data.test_mask.sum().item()"
      ],
      "metadata": {
        "colab": {
          "base_uri": "https://localhost:8080/"
        },
        "id": "YZ2Wm-353LH-",
        "outputId": "d17df9e3-80d1-4139-fb31-2a8ab3ff5290"
      },
      "execution_count": 26,
      "outputs": [
        {
          "output_type": "execute_result",
          "data": {
            "text/plain": [
              "1000"
            ]
          },
          "metadata": {},
          "execution_count": 26
        }
      ]
    },
    {
      "cell_type": "markdown",
      "source": [
        "Here the data holds the label for each node and additional node-level attributes where,\n",
        "\n",
        "*   *train_mask* denotes against which nodes to train (140 nodes)\n",
        "*   *val_mask* denotes which nodes to use for validation. (perform early stopping).\n",
        "*  *test_mask* denotes against which nodes to test (1000 nodes).\n",
        "\n"
      ],
      "metadata": {
        "id": "Ypsk1rZq2au0"
      }
    },
    {
      "cell_type": "markdown",
      "source": [
        "# Mini-batches\n",
        "\n",
        "NN are trained in a batch-wise fashion. Here the parallelization over a mini-batch is obtained by creating a sparse block diagonal matrices and concatenating the target and feature matrices in the node dimension. This allows a differing number of nodes and edges over examples in one batch.\n",
        "\n",
        "$\\mathbf{A} = \\begin{bmatrix}\n",
        "\\mathbf{A}_1 &  &  \\\\\n",
        " & \\ddots  &  \\\\\n",
        " &  & \\mathbf{A}_n \\\\\n",
        "\\end{bmatrix}$ , $\\mathbf{X} = \\begin{bmatrix}\n",
        "\\mathbf{X_1} \\\\\n",
        "\\vdots  \\\\ \\mathbf{X}_n\n",
        "\\end{bmatrix}$ , $\\mathbf{Y} = \\begin{bmatrix}\n",
        "\\mathbf{Y_1} \\\\\n",
        "\\vdots  \\\\ \\mathbf{Y}_n\n",
        "\\end{bmatrix}$\n",
        "\n",
        "The **Dataloader** object takes care of the concatenation process as per the above matrix."
      ],
      "metadata": {
        "id": "AGlTNbaQ3RwI"
      }
    },
    {
      "cell_type": "code",
      "source": [
        "from torch_geometric.datasets import TUDataset\n",
        "from torch_geometric.loader import DataLoader\n",
        "\n",
        "dataset = TUDataset(root='/tmp/ENZYMES', name='ENZYMES', use_node_attr=True)\n",
        "loader = DataLoader(dataset, batch_size=32, shuffle=True)\n",
        "\n",
        "for batch in loader:\n",
        "  print(batch)"
      ],
      "metadata": {
        "colab": {
          "base_uri": "https://localhost:8080/"
        },
        "id": "krJAJX3Z481q",
        "outputId": "a4acd331-e383-458d-c74d-598c9f1015a2"
      },
      "execution_count": 27,
      "outputs": [
        {
          "output_type": "stream",
          "name": "stdout",
          "text": [
            "DataBatch(edge_index=[2, 3536], x=[970, 21], y=[32], batch=[970], ptr=[33])\n",
            "DataBatch(edge_index=[2, 4020], x=[1275, 21], y=[32], batch=[1275], ptr=[33])\n",
            "DataBatch(edge_index=[2, 3972], x=[1030, 21], y=[32], batch=[1030], ptr=[33])\n",
            "DataBatch(edge_index=[2, 4502], x=[1219, 21], y=[32], batch=[1219], ptr=[33])\n",
            "DataBatch(edge_index=[2, 3608], x=[913, 21], y=[32], batch=[913], ptr=[33])\n",
            "DataBatch(edge_index=[2, 3926], x=[989, 21], y=[32], batch=[989], ptr=[33])\n",
            "DataBatch(edge_index=[2, 4190], x=[1079, 21], y=[32], batch=[1079], ptr=[33])\n",
            "DataBatch(edge_index=[2, 3696], x=[962, 21], y=[32], batch=[962], ptr=[33])\n",
            "DataBatch(edge_index=[2, 4208], x=[1087, 21], y=[32], batch=[1087], ptr=[33])\n",
            "DataBatch(edge_index=[2, 4138], x=[1032, 21], y=[32], batch=[1032], ptr=[33])\n",
            "DataBatch(edge_index=[2, 4212], x=[1089, 21], y=[32], batch=[1089], ptr=[33])\n",
            "DataBatch(edge_index=[2, 3762], x=[930, 21], y=[32], batch=[930], ptr=[33])\n",
            "DataBatch(edge_index=[2, 4176], x=[1131, 21], y=[32], batch=[1131], ptr=[33])\n",
            "DataBatch(edge_index=[2, 3958], x=[1016, 21], y=[32], batch=[1016], ptr=[33])\n",
            "DataBatch(edge_index=[2, 4020], x=[1022, 21], y=[32], batch=[1022], ptr=[33])\n",
            "DataBatch(edge_index=[2, 3540], x=[907, 21], y=[32], batch=[907], ptr=[33])\n",
            "DataBatch(edge_index=[2, 3926], x=[979, 21], y=[32], batch=[979], ptr=[33])\n",
            "DataBatch(edge_index=[2, 4238], x=[1205, 21], y=[32], batch=[1205], ptr=[33])\n",
            "DataBatch(edge_index=[2, 2936], x=[745, 21], y=[24], batch=[745], ptr=[25])\n"
          ]
        }
      ]
    },
    {
      "cell_type": "code",
      "source": [
        "batch.num_graphs"
      ],
      "metadata": {
        "colab": {
          "base_uri": "https://localhost:8080/"
        },
        "id": "YAwKoqCB5cPi",
        "outputId": "b349de29-0fef-410b-fbde-fad2bebb77ca"
      },
      "execution_count": 28,
      "outputs": [
        {
          "output_type": "execute_result",
          "data": {
            "text/plain": [
              "24"
            ]
          },
          "metadata": {},
          "execution_count": 28
        }
      ]
    },
    {
      "cell_type": "markdown",
      "source": [
        "**batch** column vector maps each nodes to its respective graph in the batch. It is used to average the node features in the node dimension for each graph individually.\n"
      ],
      "metadata": {
        "id": "ff87m6wP5mvs"
      }
    },
    {
      "cell_type": "code",
      "source": [
        "from torch_geometric.utils import scatter\n",
        "from torch_geometric.datasets import TUDataset\n",
        "from torch_geometric.loader import DataLoader\n",
        "\n",
        "dataset = TUDataset(root='/tmp/ENZYMES', name='ENZYMES', use_node_attr=True)\n",
        "loader = DataLoader(dataset, batch_size = 32, shuffle=True)\n",
        "\n",
        "for data in loader:\n",
        "  x = scatter(data.x, data.batch, dim=0, reduce='mean')\n",
        "  print(x.size())"
      ],
      "metadata": {
        "colab": {
          "base_uri": "https://localhost:8080/"
        },
        "id": "Gts9_f7x5zCm",
        "outputId": "0aab4ffd-635c-4c3c-f234-c52097d46561"
      },
      "execution_count": 31,
      "outputs": [
        {
          "output_type": "stream",
          "name": "stdout",
          "text": [
            "torch.Size([32, 21])\n",
            "torch.Size([32, 21])\n",
            "torch.Size([32, 21])\n",
            "torch.Size([32, 21])\n",
            "torch.Size([32, 21])\n",
            "torch.Size([32, 21])\n",
            "torch.Size([32, 21])\n",
            "torch.Size([32, 21])\n",
            "torch.Size([32, 21])\n",
            "torch.Size([32, 21])\n",
            "torch.Size([32, 21])\n",
            "torch.Size([32, 21])\n",
            "torch.Size([32, 21])\n",
            "torch.Size([32, 21])\n",
            "torch.Size([32, 21])\n",
            "torch.Size([32, 21])\n",
            "torch.Size([32, 21])\n",
            "torch.Size([32, 21])\n",
            "torch.Size([24, 21])\n"
          ]
        }
      ]
    },
    {
      "cell_type": "markdown",
      "source": [
        "# Learning Methods on Graphs\n",
        "\n",
        "After learning about data handling, datasets, loader and transforms, its time to implement our first GNN. We will use a simple GCN and replicate the experiments on Cora citation dataset."
      ],
      "metadata": {
        "id": "DGYHS67g8uNL"
      }
    },
    {
      "cell_type": "code",
      "source": [
        "from torch_geometric.datasets import Planetoid\n",
        "dataset = Planetoid(root='/tmp/Cora', name='Cora')"
      ],
      "metadata": {
        "id": "IXlJtvJp88-4"
      },
      "execution_count": 36,
      "outputs": []
    },
    {
      "cell_type": "code",
      "source": [
        "import torch\n",
        "import torch.nn.functional as F\n",
        "from torch_geometric.nn import GCNConv\n",
        "\n",
        "class GCN(torch.nn.Module):\n",
        "  def __init__(self):\n",
        "    super().__init__()\n",
        "    self.conv1 = GCNConv(dataset.num_node_features, 16)\n",
        "    self.conv2 = GCNConv(16, dataset.num_classes)\n",
        "\n",
        "  def forward(self, data):\n",
        "    x, edge_index = data.x, data.edge_index\n",
        "    x = self.conv1(x, edge_index)\n",
        "    x = F.relu(x) # nonlinearity not integrated in the conv calls hence called separately\n",
        "    x = F.dropout(x, training=self.training)\n",
        "    x = self.conv2(x, edge_index)\n",
        "\n",
        "    return F.log_softmax(x, dim=1)\n"
      ],
      "metadata": {
        "id": "FsEDz_Py8_3K"
      },
      "execution_count": 37,
      "outputs": []
    },
    {
      "cell_type": "code",
      "source": [
        "device = torch.device('cuda' if torch.cuda.is_available() else 'cpu')\n",
        "model = GCN().to(device)\n",
        "data = dataset[0].to(device)\n",
        "optimizer = torch.optim.Adam(model.parameters(), lr=0.01, weight_decay=5e-4)\n",
        "\n",
        "model.train()\n",
        "for epoch in range(200):\n",
        "  optimizer.zero_grad()\n",
        "  out = model(data)\n",
        "  loss = F.nll_loss(out[data.train_mask], data.y[data.train_mask])\n",
        "  loss.backward()\n",
        "  optimizer.step()"
      ],
      "metadata": {
        "id": "i7pHeQxH97Gg"
      },
      "execution_count": 38,
      "outputs": []
    },
    {
      "cell_type": "code",
      "source": [
        "model.eval()\n",
        "pred = model(data).argmax(dim=1)\n",
        "correct = (pred[data.test_mask] == data.y[data.test_mask]).sum()\n",
        "acc = int(correct) / int(data.test_mask.sum())\n",
        "print(f'Accuracy: {acc:.4f}')"
      ],
      "metadata": {
        "colab": {
          "base_uri": "https://localhost:8080/"
        },
        "id": "fMMRpDtM-jpa",
        "outputId": "e6182ab4-9e36-44b0-fa16-ef306292ea4f"
      },
      "execution_count": 39,
      "outputs": [
        {
          "output_type": "stream",
          "name": "stdout",
          "text": [
            "Accuracy: 0.8060\n"
          ]
        }
      ]
    }
  ]
}