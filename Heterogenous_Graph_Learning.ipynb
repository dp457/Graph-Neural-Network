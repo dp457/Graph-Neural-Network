{
  "nbformat": 4,
  "nbformat_minor": 0,
  "metadata": {
    "colab": {
      "provenance": [],
      "authorship_tag": "ABX9TyNkYTeowWByQAaA5xYz2tJv",
      "include_colab_link": true
    },
    "kernelspec": {
      "name": "python3",
      "display_name": "Python 3"
    },
    "language_info": {
      "name": "python"
    }
  },
  "cells": [
    {
      "cell_type": "markdown",
      "metadata": {
        "id": "view-in-github",
        "colab_type": "text"
      },
      "source": [
        "<a href=\"https://colab.research.google.com/github/dp457/Graph-Neural-Network/blob/main/Heterogenous_Graph_Learning.ipynb\" target=\"_parent\"><img src=\"https://colab.research.google.com/assets/colab-badge.svg\" alt=\"Open In Colab\"/></a>"
      ]
    },
    {
      "cell_type": "markdown",
      "source": [
        "A large set of real-world datasets are stored as **heterogeneous graphs**, motivating the introduction of specialized functionality. For example, most graphs in the area of recommendation, such as social graphs, are heterogeneous, as they store information about different types of entities and their different types of relations. This tutorial helps us understand how to map heterogenous graphs and used as input to GNN.\n",
        "\n",
        "Heterogeneous graphs come with different types of information attached to nodes and edges. Thus, a single node or edge feature tensor cannot hold all node or edge features of the whole graph, due to differences in type and dimensionality. Different data structure, message passing formulation changes accordingly, allowing the computation of the message and update function based on node or edge type.\n",
        "\n",
        "The data we consider is a heterogenous graph split between he four node types author, paper, institution and field of study. It is one of the four types\n",
        "*   **writes** - Author writes a specific paper\n",
        "*   **affiliated with** - author affiliated with a specific institution.\n",
        "*   **cites** - A paper cites another paper.\n",
        "*   **has topic** - Paper has a topic of a specific field of study.\n",
        "\n",
        "\n",
        "\n"
      ],
      "metadata": {
        "id": "8SPWENnYuNVA"
      }
    },
    {
      "cell_type": "code",
      "source": [
        "!pip install torch_geometric"
      ],
      "metadata": {
        "colab": {
          "base_uri": "https://localhost:8080/"
        },
        "id": "Az09IK_OwqbT",
        "outputId": "65e59bed-a7d1-4b44-8e9d-d60314898933"
      },
      "execution_count": 1,
      "outputs": [
        {
          "output_type": "stream",
          "name": "stdout",
          "text": [
            "Collecting torch_geometric\n",
            "  Downloading torch_geometric-2.6.1-py3-none-any.whl.metadata (63 kB)\n",
            "\u001b[?25l     \u001b[90m━━━━━━━━━━━━━━━━━━━━━━━━━━━━━━━━━━━━━━━━\u001b[0m \u001b[32m0.0/63.1 kB\u001b[0m \u001b[31m?\u001b[0m eta \u001b[36m-:--:--\u001b[0m\r\u001b[2K     \u001b[91m━━━━━━━━━━━━━━━━━━━━━━━━━━━━━━━━━━━━━━\u001b[0m\u001b[91m╸\u001b[0m\u001b[90m━\u001b[0m \u001b[32m61.4/63.1 kB\u001b[0m \u001b[31m2.9 MB/s\u001b[0m eta \u001b[36m0:00:01\u001b[0m\r\u001b[2K     \u001b[91m━━━━━━━━━━━━━━━━━━━━━━━━━━━━━━━━━━━━━━\u001b[0m\u001b[91m╸\u001b[0m\u001b[90m━\u001b[0m \u001b[32m61.4/63.1 kB\u001b[0m \u001b[31m2.9 MB/s\u001b[0m eta \u001b[36m0:00:01\u001b[0m\r\u001b[2K     \u001b[90m━━━━━━━━━━━━━━━━━━━━━━━━━━━━━━━━━━━━━━━\u001b[0m \u001b[32m63.1/63.1 kB\u001b[0m \u001b[31m599.0 kB/s\u001b[0m eta \u001b[36m0:00:00\u001b[0m\n",
            "\u001b[?25hRequirement already satisfied: aiohttp in /usr/local/lib/python3.12/dist-packages (from torch_geometric) (3.12.15)\n",
            "Requirement already satisfied: fsspec in /usr/local/lib/python3.12/dist-packages (from torch_geometric) (2025.3.0)\n",
            "Requirement already satisfied: jinja2 in /usr/local/lib/python3.12/dist-packages (from torch_geometric) (3.1.6)\n",
            "Requirement already satisfied: numpy in /usr/local/lib/python3.12/dist-packages (from torch_geometric) (2.0.2)\n",
            "Requirement already satisfied: psutil>=5.8.0 in /usr/local/lib/python3.12/dist-packages (from torch_geometric) (5.9.5)\n",
            "Requirement already satisfied: pyparsing in /usr/local/lib/python3.12/dist-packages (from torch_geometric) (3.2.3)\n",
            "Requirement already satisfied: requests in /usr/local/lib/python3.12/dist-packages (from torch_geometric) (2.32.4)\n",
            "Requirement already satisfied: tqdm in /usr/local/lib/python3.12/dist-packages (from torch_geometric) (4.67.1)\n",
            "Requirement already satisfied: aiohappyeyeballs>=2.5.0 in /usr/local/lib/python3.12/dist-packages (from aiohttp->torch_geometric) (2.6.1)\n",
            "Requirement already satisfied: aiosignal>=1.4.0 in /usr/local/lib/python3.12/dist-packages (from aiohttp->torch_geometric) (1.4.0)\n",
            "Requirement already satisfied: attrs>=17.3.0 in /usr/local/lib/python3.12/dist-packages (from aiohttp->torch_geometric) (25.3.0)\n",
            "Requirement already satisfied: frozenlist>=1.1.1 in /usr/local/lib/python3.12/dist-packages (from aiohttp->torch_geometric) (1.7.0)\n",
            "Requirement already satisfied: multidict<7.0,>=4.5 in /usr/local/lib/python3.12/dist-packages (from aiohttp->torch_geometric) (6.6.4)\n",
            "Requirement already satisfied: propcache>=0.2.0 in /usr/local/lib/python3.12/dist-packages (from aiohttp->torch_geometric) (0.3.2)\n",
            "Requirement already satisfied: yarl<2.0,>=1.17.0 in /usr/local/lib/python3.12/dist-packages (from aiohttp->torch_geometric) (1.20.1)\n",
            "Requirement already satisfied: MarkupSafe>=2.0 in /usr/local/lib/python3.12/dist-packages (from jinja2->torch_geometric) (3.0.2)\n",
            "Requirement already satisfied: charset_normalizer<4,>=2 in /usr/local/lib/python3.12/dist-packages (from requests->torch_geometric) (3.4.3)\n",
            "Requirement already satisfied: idna<4,>=2.5 in /usr/local/lib/python3.12/dist-packages (from requests->torch_geometric) (3.10)\n",
            "Requirement already satisfied: urllib3<3,>=1.21.1 in /usr/local/lib/python3.12/dist-packages (from requests->torch_geometric) (2.5.0)\n",
            "Requirement already satisfied: certifi>=2017.4.17 in /usr/local/lib/python3.12/dist-packages (from requests->torch_geometric) (2025.8.3)\n",
            "Requirement already satisfied: typing-extensions>=4.2 in /usr/local/lib/python3.12/dist-packages (from aiosignal>=1.4.0->aiohttp->torch_geometric) (4.14.1)\n",
            "Downloading torch_geometric-2.6.1-py3-none-any.whl (1.1 MB)\n",
            "\u001b[2K   \u001b[90m━━━━━━━━━━━━━━━━━━━━━━━━━━━━━━━━━━━━━━━━\u001b[0m \u001b[32m1.1/1.1 MB\u001b[0m \u001b[31m20.9 MB/s\u001b[0m eta \u001b[36m0:00:00\u001b[0m\n",
            "\u001b[?25hInstalling collected packages: torch_geometric\n",
            "Successfully installed torch_geometric-2.6.1\n"
          ]
        }
      ]
    },
    {
      "cell_type": "code",
      "source": [
        "import torch\n",
        "from torch_geometric.data import HeteroData\n",
        "\n",
        "data = HeteroData()\n",
        "\n",
        "# Node features\n",
        "num_papers, num_authors, num_institutions, num_fields = 5, 3, 2, 4\n",
        "feat_paper, feat_author, feat_inst, feat_field = 16, 8, 6, 10\n",
        "\n",
        "data['paper'].x = torch.randn(num_papers, feat_paper)             # [5, 16]\n",
        "data['author'].x = torch.randn(num_authors, feat_author)          # [3, 8]\n",
        "data['institution'].x = torch.randn(num_institutions, feat_inst)  # [2, 6]\n",
        "data['field_of_study'].x = torch.randn(num_fields, feat_field)    # [4, 10]\n",
        "\n",
        "# Edge indices\n",
        "num_edges_cites, num_edges_writes, num_edges_affiliated, num_edges_topic = 6, 4, 3, 5\n",
        "\n",
        "data['paper', 'cites', 'paper'].edge_index = torch.randint(0, num_papers, (2, num_edges_cites))\n",
        "data['author', 'writes', 'paper'].edge_index = torch.stack([\n",
        "    torch.randint(0, num_authors, (num_edges_writes,)),\n",
        "    torch.randint(0, num_papers, (num_edges_writes,))\n",
        "], dim=0)\n",
        "data['author', 'affiliated_with', 'institution'].edge_index = torch.stack([\n",
        "    torch.randint(0, num_authors, (num_edges_affiliated,)),\n",
        "    torch.randint(0, num_institutions, (num_edges_affiliated,))\n",
        "], dim=0)\n",
        "data['paper', 'has_topic', 'field_of_study'].edge_index = torch.stack([\n",
        "    torch.randint(0, num_papers, (num_edges_topic,)),\n",
        "    torch.randint(0, num_fields, (num_edges_topic,))\n",
        "], dim=0)\n",
        "\n",
        "# Edge attributes\n",
        "feat_cites, feat_writes, feat_affiliated, feat_topic = 4, 3, 2, 5\n",
        "\n",
        "data['paper', 'cites', 'paper'].edge_attr = torch.randn(num_edges_cites, feat_cites)\n",
        "data['author', 'writes', 'paper'].edge_attr = torch.randn(num_edges_writes, feat_writes)\n",
        "data['author', 'affiliated_with', 'institution'].edge_attr = torch.randn(num_edges_affiliated, feat_affiliated)\n",
        "data['paper', 'has_topic', 'field_of_study'].edge_attr = torch.randn(num_edges_topic, feat_topic)\n",
        "\n",
        "print(data)\n"
      ],
      "metadata": {
        "colab": {
          "base_uri": "https://localhost:8080/"
        },
        "id": "NNFuCIUGvXg0",
        "outputId": "42ce9532-b687-473f-8e3b-a12ade8cddcf"
      },
      "execution_count": 2,
      "outputs": [
        {
          "output_type": "stream",
          "name": "stdout",
          "text": [
            "HeteroData(\n",
            "  paper={ x=[5, 16] },\n",
            "  author={ x=[3, 8] },\n",
            "  institution={ x=[2, 6] },\n",
            "  field_of_study={ x=[4, 10] },\n",
            "  (paper, cites, paper)={\n",
            "    edge_index=[2, 6],\n",
            "    edge_attr=[6, 4],\n",
            "  },\n",
            "  (author, writes, paper)={\n",
            "    edge_index=[2, 4],\n",
            "    edge_attr=[4, 3],\n",
            "  },\n",
            "  (author, affiliated_with, institution)={\n",
            "    edge_index=[2, 3],\n",
            "    edge_attr=[3, 2],\n",
            "  },\n",
            "  (paper, has_topic, field_of_study)={\n",
            "    edge_index=[2, 5],\n",
            "    edge_attr=[5, 5],\n",
            "  }\n",
            ")\n"
          ]
        }
      ]
    },
    {
      "cell_type": "markdown",
      "source": [
        "Node or edge tensors will be automatically created upon first access and indexed by string keys. Node types are identified by a single string while edge types are identified by using a triplet **(source_node_type, edge_type, destination_node_type)**.  As such, the data object allows different feature dimensionalities for each type."
      ],
      "metadata": {
        "id": "gzBQfJHFxaAW"
      }
    },
    {
      "cell_type": "code",
      "source": [
        "import torch\n",
        "import torch.nn as nn\n",
        "import torch.nn.functional as F\n",
        "from torch_geometric.nn import HeteroConv, GCNConv, SAGEConv, GATConv"
      ],
      "metadata": {
        "id": "aEV_RqLsxYev"
      },
      "execution_count": 3,
      "outputs": []
    },
    {
      "cell_type": "code",
      "source": [
        "class HeteroGNN(nn.Module):\n",
        "  def __init__(self, metadata, hidden_channels, out_channels):\n",
        "    super().__init__()\n",
        "\n",
        "    # Define heterogenous convolution layers\n",
        "    # metadata = (node_types, edge_types) -> from data.metadata()\n",
        "\n",
        "    self.conv1 = HeteroConv({\n",
        "    ('paper', 'cites', 'paper'): GCNConv(-1, hidden_channels, add_self_loops=True),\n",
        "    ('author', 'writes', 'paper'): SAGEConv((-1, -1), hidden_channels),\n",
        "    ('author', 'affiliated_with', 'institution'): SAGEConv((-1, -1), hidden_channels),\n",
        "    ('paper', 'has_topic', 'field_of_study'): GATConv((-1, -1), hidden_channels, add_self_loops=False)\n",
        "      }, aggr='mean')\n",
        "\n",
        "    self.lin_dict = nn.ModuleDict()\n",
        "    for node_type in metadata[0]:\n",
        "            self.lin_dict[node_type] = nn.Linear(hidden_channels, out_channels)\n",
        "\n",
        "  def forward(self, x_dict, edge_index_dict, edge_attr_dict=None):\n",
        "\n",
        "    # 1. Message Passing\n",
        "    x_dict = self.conv1(x_dict, edge_index_dict)\n",
        "\n",
        "    # 2. Apply non-linearity\n",
        "    x_dict = {k: F.relu(v) for k, v in x_dict.items()}\n",
        "\n",
        "    # 3. Apply per-node-type linear classifier / projection\n",
        "    out_dict = {k: self.lin_dict[k](v) for k, v in x_dict.items()}\n",
        "\n",
        "    return out_dict"
      ],
      "metadata": {
        "id": "C4znypGRzqk-"
      },
      "execution_count": 10,
      "outputs": []
    },
    {
      "cell_type": "code",
      "source": [
        "# Grab metadata from data (node_types, edge_types)\n",
        "from torch_geometric.transforms import ToUndirected\n",
        "metadata = data.metadata()\n",
        "\n",
        "data = ToUndirected()(data)\n",
        "\n",
        "model = HeteroGNN(metadata, hidden_channels=32, out_channels=8)\n",
        "\n",
        "out = model(data.x_dict, data.edge_index_dict, data.edge_attr_dict)\n",
        "print({k: v.shape for k, v in out.items()})"
      ],
      "metadata": {
        "colab": {
          "base_uri": "https://localhost:8080/"
        },
        "id": "5_tEMXzt1Jwe",
        "outputId": "770467f8-1ab2-4843-826b-d4a9c08200a8"
      },
      "execution_count": 12,
      "outputs": [
        {
          "output_type": "stream",
          "name": "stdout",
          "text": [
            "{'paper': torch.Size([5, 8]), 'institution': torch.Size([2, 8]), 'field_of_study': torch.Size([4, 8])}\n"
          ]
        }
      ]
    },
    {
      "cell_type": "markdown",
      "source": [
        "# Heterogeneous GNNs\n",
        "\n",
        "Standard message passing GNNs cannot be applied to heterogenous graph data as node and edge features are of different types cannot be processed by the same functions, as there is a difference in the feature type.\n",
        "\n",
        "Nature way --> implement message and update functions individually for each edge type. During runtime, MP-GNN would have to iterate over the edge type dictionaries during message computation and over node dictionaries during the node updates. In order to avoid unncessary runtime overheads, and to create heterogenous MP-GNNs, as simple as possible, there are three ways:\n",
        "\n",
        "1. Automatically convert the homogenous model to heterogenous model.\n",
        "2. Define individual functions using different types of PyG wrappers for heterogenous convolution.\n",
        "3. Deploy existing heterogenous GNN operators.\n"
      ],
      "metadata": {
        "id": "FCepaCUi7Zec"
      }
    }
  ]
}